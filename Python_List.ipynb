{
  "nbformat": 4,
  "nbformat_minor": 0,
  "metadata": {
    "colab": {
      "provenance": []
    },
    "kernelspec": {
      "name": "python3",
      "display_name": "Python 3"
    },
    "language_info": {
      "name": "python"
    }
  },
  "cells": [
    {
      "cell_type": "markdown",
      "source": [
        "Array is a memory locatoion which can save values\n",
        "But in python there is no type Call Array. We simply use LIst.\n",
        "there is altanatives call List,Tuples and Dictionaries. inside a Python list anything can be store. Like image, Video or audio\n"
      ],
      "metadata": {
        "id": "hJ20ejzByJBa"
      }
    },
    {
      "cell_type": "code",
      "execution_count": 39,
      "metadata": {
        "colab": {
          "base_uri": "https://localhost:8080/"
        },
        "id": "nOyTvPUhxfs2",
        "outputId": "6f648ea9-a3c7-424e-a3f8-dc16ebd27062"
      },
      "outputs": [
        {
          "output_type": "stream",
          "name": "stdout",
          "text": [
            "[10, 20.5, 'Hello', '$']\n"
          ]
        }
      ],
      "source": [
        "myList =[10,20.5,'Hello','$']\n",
        "print(myList)"
      ]
    },
    {
      "cell_type": "code",
      "source": [
        "print(myList[0])"
      ],
      "metadata": {
        "colab": {
          "base_uri": "https://localhost:8080/"
        },
        "id": "92asYXdW1o03",
        "outputId": "300769ea-4be1-4817-9f36-1cf70351de26"
      },
      "execution_count": 40,
      "outputs": [
        {
          "output_type": "stream",
          "name": "stdout",
          "text": [
            "10\n"
          ]
        }
      ]
    },
    {
      "cell_type": "code",
      "source": [
        "print(myList[-1])"
      ],
      "metadata": {
        "colab": {
          "base_uri": "https://localhost:8080/"
        },
        "id": "frvFKsYq2G8Q",
        "outputId": "acb53dcc-8508-45b4-b7b9-70b46ce3446e"
      },
      "execution_count": 41,
      "outputs": [
        {
          "output_type": "stream",
          "name": "stdout",
          "text": [
            "$\n"
          ]
        }
      ]
    },
    {
      "cell_type": "code",
      "source": [
        "myList =[10,20.5,'Hello','$',[100,200,500,[12.5,2.6,45.6]]]\n",
        "print(myList)"
      ],
      "metadata": {
        "colab": {
          "base_uri": "https://localhost:8080/"
        },
        "id": "TT8jhZDz4U1E",
        "outputId": "44149ab6-3ef9-416d-9735-da3ca9ac75fa"
      },
      "execution_count": 42,
      "outputs": [
        {
          "output_type": "stream",
          "name": "stdout",
          "text": [
            "[10, 20.5, 'Hello', '$', [100, 200, 500, [12.5, 2.6, 45.6]]]\n"
          ]
        }
      ]
    },
    {
      "cell_type": "code",
      "source": [
        "print(myList[4][3])"
      ],
      "metadata": {
        "colab": {
          "base_uri": "https://localhost:8080/"
        },
        "id": "xgYuHA6S4sVo",
        "outputId": "d3638b6f-ac77-461c-9cce-8a66e70e744b"
      },
      "execution_count": 43,
      "outputs": [
        {
          "output_type": "stream",
          "name": "stdout",
          "text": [
            "[12.5, 2.6, 45.6]\n"
          ]
        }
      ]
    },
    {
      "cell_type": "code",
      "source": [
        "print(myList[4][3][0])"
      ],
      "metadata": {
        "colab": {
          "base_uri": "https://localhost:8080/"
        },
        "id": "Tcu25Hct42Am",
        "outputId": "dd8ebc59-0fb5-4b11-c633-e56573ce9dc6"
      },
      "execution_count": 44,
      "outputs": [
        {
          "output_type": "stream",
          "name": "stdout",
          "text": [
            "12.5\n"
          ]
        }
      ]
    },
    {
      "cell_type": "code",
      "source": [
        "myList =[10,20,30,40,50,60,70]"
      ],
      "metadata": {
        "id": "vQXdkzcW6ydd"
      },
      "execution_count": 45,
      "outputs": []
    },
    {
      "cell_type": "code",
      "source": [
        "print(myList)"
      ],
      "metadata": {
        "colab": {
          "base_uri": "https://localhost:8080/"
        },
        "id": "uRRL-owU70nC",
        "outputId": "1e942e8d-706b-42f3-9fea-4923df4dee80"
      },
      "execution_count": 46,
      "outputs": [
        {
          "output_type": "stream",
          "name": "stdout",
          "text": [
            "[10, 20, 30, 40, 50, 60, 70]\n"
          ]
        }
      ]
    },
    {
      "cell_type": "code",
      "source": [
        "print(myList[1])"
      ],
      "metadata": {
        "colab": {
          "base_uri": "https://localhost:8080/"
        },
        "id": "Y5OzM6IR77Y1",
        "outputId": "059828e4-c44b-4cb5-9039-216b59761dde"
      },
      "execution_count": 47,
      "outputs": [
        {
          "output_type": "stream",
          "name": "stdout",
          "text": [
            "20\n"
          ]
        }
      ]
    },
    {
      "cell_type": "code",
      "source": [
        "print(myList[0:5])"
      ],
      "metadata": {
        "colab": {
          "base_uri": "https://localhost:8080/"
        },
        "id": "UmCjMwK98pUf",
        "outputId": "aefa428c-49b9-477c-f50b-b1cdd09a0554"
      },
      "execution_count": 48,
      "outputs": [
        {
          "output_type": "stream",
          "name": "stdout",
          "text": [
            "[10, 20, 30, 40, 50]\n"
          ]
        }
      ]
    },
    {
      "cell_type": "code",
      "source": [
        "print(myList[2:])"
      ],
      "metadata": {
        "colab": {
          "base_uri": "https://localhost:8080/"
        },
        "id": "lCnRCbjr9KhQ",
        "outputId": "2f12e553-a94e-409a-ea33-cf72cae51a48"
      },
      "execution_count": 49,
      "outputs": [
        {
          "output_type": "stream",
          "name": "stdout",
          "text": [
            "[30, 40, 50, 60, 70]\n"
          ]
        }
      ]
    },
    {
      "cell_type": "code",
      "source": [
        "print(myList[:5])"
      ],
      "metadata": {
        "colab": {
          "base_uri": "https://localhost:8080/"
        },
        "id": "g_bTNrQ29ZjR",
        "outputId": "fbfd27e1-511d-4576-ee25-01f29fd7b23a"
      },
      "execution_count": 50,
      "outputs": [
        {
          "output_type": "stream",
          "name": "stdout",
          "text": [
            "[10, 20, 30, 40, 50]\n"
          ]
        }
      ]
    },
    {
      "cell_type": "code",
      "source": [
        "print(myList[-1])"
      ],
      "metadata": {
        "colab": {
          "base_uri": "https://localhost:8080/"
        },
        "id": "pQrmASl69jYl",
        "outputId": "c8334a13-0d47-45d1-8a50-0fbb6acc914b"
      },
      "execution_count": 51,
      "outputs": [
        {
          "output_type": "stream",
          "name": "stdout",
          "text": [
            "70\n"
          ]
        }
      ]
    },
    {
      "cell_type": "code",
      "source": [
        "print(myList[1:-2])"
      ],
      "metadata": {
        "colab": {
          "base_uri": "https://localhost:8080/"
        },
        "id": "Oun-uSbF9mw3",
        "outputId": "6f7f91ee-3132-4dc5-d732-a1afa6df1a49"
      },
      "execution_count": 52,
      "outputs": [
        {
          "output_type": "stream",
          "name": "stdout",
          "text": [
            "[20, 30, 40, 50]\n"
          ]
        }
      ]
    },
    {
      "cell_type": "code",
      "source": [
        "myList[6] = [100, 4.5,'Hello',True]"
      ],
      "metadata": {
        "id": "ETW2gGBG-V-q"
      },
      "execution_count": 53,
      "outputs": []
    },
    {
      "cell_type": "code",
      "source": [
        "print(myList)"
      ],
      "metadata": {
        "colab": {
          "base_uri": "https://localhost:8080/"
        },
        "id": "NSA-AiJ6_Bv9",
        "outputId": "f81c6c7c-d3a2-446b-d3de-5a75e9605e5d"
      },
      "execution_count": 54,
      "outputs": [
        {
          "output_type": "stream",
          "name": "stdout",
          "text": [
            "[10, 20, 30, 40, 50, 60, [100, 4.5, 'Hello', True]]\n"
          ]
        }
      ]
    },
    {
      "cell_type": "code",
      "source": [
        "del myList[6]\n",
        "print(myList)"
      ],
      "metadata": {
        "colab": {
          "base_uri": "https://localhost:8080/"
        },
        "id": "hC8qg1Ma_swU",
        "outputId": "95df40ad-a7e7-4423-d3f5-444decefcbce"
      },
      "execution_count": 55,
      "outputs": [
        {
          "output_type": "stream",
          "name": "stdout",
          "text": [
            "[10, 20, 30, 40, 50, 60]\n"
          ]
        }
      ]
    },
    {
      "cell_type": "code",
      "source": [
        "print(len(myList))"
      ],
      "metadata": {
        "colab": {
          "base_uri": "https://localhost:8080/"
        },
        "id": "yHyEUmpIBzNm",
        "outputId": "e4949a7a-4250-40be-e70e-3d671b20905f"
      },
      "execution_count": 56,
      "outputs": [
        {
          "output_type": "stream",
          "name": "stdout",
          "text": [
            "6\n"
          ]
        }
      ]
    },
    {
      "cell_type": "code",
      "source": [
        "print(max(myList))"
      ],
      "metadata": {
        "colab": {
          "base_uri": "https://localhost:8080/"
        },
        "id": "DoiPmxzlCH9C",
        "outputId": "816763df-2520-4cfa-98c7-a0a474e9c8aa"
      },
      "execution_count": 57,
      "outputs": [
        {
          "output_type": "stream",
          "name": "stdout",
          "text": [
            "60\n"
          ]
        }
      ]
    },
    {
      "cell_type": "code",
      "source": [
        "print(min(myList))"
      ],
      "metadata": {
        "colab": {
          "base_uri": "https://localhost:8080/"
        },
        "id": "m5KmoQCuCTFN",
        "outputId": "ae0761ad-1b42-4737-98c5-502664718d40"
      },
      "execution_count": 58,
      "outputs": [
        {
          "output_type": "stream",
          "name": "stdout",
          "text": [
            "10\n"
          ]
        }
      ]
    },
    {
      "cell_type": "code",
      "source": [
        "print(sum(myList))"
      ],
      "metadata": {
        "colab": {
          "base_uri": "https://localhost:8080/"
        },
        "id": "kbvCBgnuCVbH",
        "outputId": "77b247a7-9c4d-4408-d0db-3baf0f1cb71d"
      },
      "execution_count": 59,
      "outputs": [
        {
          "output_type": "stream",
          "name": "stdout",
          "text": [
            "210\n"
          ]
        }
      ]
    },
    {
      "cell_type": "code",
      "source": [
        "list1 = [\"Math\",\"Chemistry\",\"physics\"]\n",
        "\n",
        "print(max(list1))\n",
        "print(min(list1))"
      ],
      "metadata": {
        "colab": {
          "base_uri": "https://localhost:8080/"
        },
        "id": "XLNjqtioCYxF",
        "outputId": "f745f141-98f2-403c-de76-e14577d6f34e"
      },
      "execution_count": 60,
      "outputs": [
        {
          "output_type": "stream",
          "name": "stdout",
          "text": [
            "physics\n",
            "Chemistry\n"
          ]
        }
      ]
    },
    {
      "cell_type": "code",
      "source": [
        "list2 = ['Cell1','Cell1','Cell3']\n",
        "print(max(list2))\n",
        "print(min(list2))"
      ],
      "metadata": {
        "colab": {
          "base_uri": "https://localhost:8080/"
        },
        "id": "zI0hgVXKFVHO",
        "outputId": "8147b6c9-855f-40f1-dfdc-9ae743e1331b"
      },
      "execution_count": 61,
      "outputs": [
        {
          "output_type": "stream",
          "name": "stdout",
          "text": [
            "Cell3\n",
            "Cell1\n"
          ]
        }
      ]
    },
    {
      "cell_type": "code",
      "source": [
        "myList =[10,20,30,40,50,60,70]"
      ],
      "metadata": {
        "id": "Xh6WIEfdFYZJ"
      },
      "execution_count": 62,
      "outputs": []
    },
    {
      "cell_type": "markdown",
      "source": [
        "![image.png](data:image/png;base64,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)"
      ],
      "metadata": {
        "id": "bse5aKSwIpJu"
      }
    },
    {
      "cell_type": "code",
      "source": [
        "myList.append(\"Hello\")\n",
        "print(myList)"
      ],
      "metadata": {
        "colab": {
          "base_uri": "https://localhost:8080/"
        },
        "id": "UpiFGBYkIR43",
        "outputId": "01c89458-446a-4dfd-8d4d-d407c722cb31"
      },
      "execution_count": 63,
      "outputs": [
        {
          "output_type": "stream",
          "name": "stdout",
          "text": [
            "[10, 20, 30, 40, 50, 60, 70, 'Hello']\n"
          ]
        }
      ]
    },
    {
      "cell_type": "code",
      "source": [
        "print(myList.index(20))\n"
      ],
      "metadata": {
        "colab": {
          "base_uri": "https://localhost:8080/"
        },
        "id": "4OXY86IBIhDu",
        "outputId": "e5137c9e-87a2-424e-f464-0bf5ca9f7b6a"
      },
      "execution_count": 64,
      "outputs": [
        {
          "output_type": "stream",
          "name": "stdout",
          "text": [
            "1\n"
          ]
        }
      ]
    },
    {
      "cell_type": "code",
      "source": [
        "aList=[123,'xyz','zara','abc',123,123]\n",
        "print(aList.count(123))\n",
        "print(aList.count(500))"
      ],
      "metadata": {
        "colab": {
          "base_uri": "https://localhost:8080/"
        },
        "id": "GkaBxTTh108Z",
        "outputId": "2e2a7be2-94c3-4642-81a9-8111ea325bde"
      },
      "execution_count": 65,
      "outputs": [
        {
          "output_type": "stream",
          "name": "stdout",
          "text": [
            "3\n",
            "0\n"
          ]
        }
      ]
    },
    {
      "cell_type": "code",
      "source": [
        "List01 = [\"Math\",\"Chemistry\",\"physics\"]\n",
        "List02 = list(range(5))\n",
        "print(List01)\n",
        "List01.extend(List02)\n",
        "print(List01)"
      ],
      "metadata": {
        "colab": {
          "base_uri": "https://localhost:8080/"
        },
        "id": "yI9ZZ9uPNeT1",
        "outputId": "6499923a-c612-458e-a282-2a621e8c88c2"
      },
      "execution_count": 66,
      "outputs": [
        {
          "output_type": "stream",
          "name": "stdout",
          "text": [
            "['Math', 'Chemistry', 'physics']\n",
            "['Math', 'Chemistry', 'physics', 0, 1, 2, 3, 4]\n"
          ]
        }
      ]
    },
    {
      "cell_type": "code",
      "source": [
        "List01.pop()\n",
        "print(\"List 01 : \", List01)"
      ],
      "metadata": {
        "colab": {
          "base_uri": "https://localhost:8080/"
        },
        "id": "P65PHhgXPqD3",
        "outputId": "018ef9ce-4c3f-40e2-a961-023c93e15415"
      },
      "execution_count": 67,
      "outputs": [
        {
          "output_type": "stream",
          "name": "stdout",
          "text": [
            "List 01 :  ['Math', 'Chemistry', 'physics', 0, 1, 2, 3]\n"
          ]
        }
      ]
    },
    {
      "cell_type": "code",
      "source": [
        "List01.pop(1)"
      ],
      "metadata": {
        "colab": {
          "base_uri": "https://localhost:8080/",
          "height": 35
        },
        "id": "xqqfgegmQJof",
        "outputId": "1bdcf9a0-e5b8-48c0-d24a-b4e247e3956a"
      },
      "execution_count": 68,
      "outputs": [
        {
          "output_type": "execute_result",
          "data": {
            "text/plain": [
              "'Chemistry'"
            ],
            "application/vnd.google.colaboratory.intrinsic+json": {
              "type": "string"
            }
          },
          "metadata": {},
          "execution_count": 68
        }
      ]
    },
    {
      "cell_type": "code",
      "source": [
        "print(List01)"
      ],
      "metadata": {
        "colab": {
          "base_uri": "https://localhost:8080/"
        },
        "id": "NiHc9YzVQhzd",
        "outputId": "f47f486f-e4fc-4bed-a488-d057df03096c"
      },
      "execution_count": 69,
      "outputs": [
        {
          "output_type": "stream",
          "name": "stdout",
          "text": [
            "['Math', 'physics', 0, 1, 2, 3]\n"
          ]
        }
      ]
    },
    {
      "cell_type": "code",
      "source": [
        "List01.remove('Math')\n",
        "print(List01)"
      ],
      "metadata": {
        "colab": {
          "base_uri": "https://localhost:8080/"
        },
        "id": "2d9AA8dlQT01",
        "outputId": "4d43dfd3-0f56-4f76-ea53-87d73b162672"
      },
      "execution_count": 70,
      "outputs": [
        {
          "output_type": "stream",
          "name": "stdout",
          "text": [
            "['physics', 0, 1, 2, 3]\n"
          ]
        }
      ]
    },
    {
      "cell_type": "code",
      "source": [
        "List01.reverse()\n",
        "print(List01)"
      ],
      "metadata": {
        "colab": {
          "base_uri": "https://localhost:8080/"
        },
        "id": "ewsHIgagQzqa",
        "outputId": "2bf8f690-60a3-4d97-d9f4-707dd2662916"
      },
      "execution_count": 71,
      "outputs": [
        {
          "output_type": "stream",
          "name": "stdout",
          "text": [
            "[3, 2, 1, 0, 'physics']\n"
          ]
        }
      ]
    },
    {
      "cell_type": "code",
      "source": [
        "List03=['a','b','z','u','i','q']\n",
        "# List03.sort()\n",
        "# print(List03)"
      ],
      "metadata": {
        "colab": {
          "base_uri": "https://localhost:8080/"
        },
        "id": "Iu5aayWnREMb",
        "outputId": "a54f6131-1bdc-4b20-b1ee-2fe4a3dd2c04"
      },
      "execution_count": 72,
      "outputs": [
        {
          "output_type": "stream",
          "name": "stdout",
          "text": [
            "['a', 'b', 'i', 'q', 'u', 'z']\n"
          ]
        }
      ]
    },
    {
      "cell_type": "code",
      "source": [
        "List03.sort(reverse = True)\n",
        "print(List03)"
      ],
      "metadata": {
        "colab": {
          "base_uri": "https://localhost:8080/"
        },
        "id": "LVTsT5axTa56",
        "outputId": "fd292a13-dae6-4073-b406-a026a016f663"
      },
      "execution_count": 76,
      "outputs": [
        {
          "output_type": "stream",
          "name": "stdout",
          "text": [
            "['z', 'u', 'q', 'i', 'b', 'a']\n"
          ]
        }
      ]
    },
    {
      "cell_type": "code",
      "source": [
        "# List03.reverse()\n",
        "# print(List03)"
      ],
      "metadata": {
        "colab": {
          "base_uri": "https://localhost:8080/"
        },
        "id": "mRK61zWpSi1Q",
        "outputId": "0ef52a8d-4bd8-4990-805b-568cd400a619"
      },
      "execution_count": 75,
      "outputs": [
        {
          "output_type": "stream",
          "name": "stdout",
          "text": [
            "['z', 'u', 'q', 'i', 'b', 'a']\n"
          ]
        }
      ]
    }
  ]
}