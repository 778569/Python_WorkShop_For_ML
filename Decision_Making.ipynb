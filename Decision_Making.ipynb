{
  "nbformat": 4,
  "nbformat_minor": 0,
  "metadata": {
    "colab": {
      "provenance": []
    },
    "kernelspec": {
      "name": "python3",
      "display_name": "Python 3"
    },
    "language_info": {
      "name": "python"
    }
  },
  "cells": [
    {
      "cell_type": "code",
      "execution_count": 1,
      "metadata": {
        "colab": {
          "base_uri": "https://localhost:8080/"
        },
        "id": "IqQLaIhVjQlL",
        "outputId": "0b265285-492e-4341-f5a2-1a899d807cae"
      },
      "outputs": [
        {
          "output_type": "stream",
          "name": "stdout",
          "text": [
            "b is greater than a\n",
            "Hello\n"
          ]
        }
      ],
      "source": [
        "a= 10\n",
        "b=20\n",
        "\n",
        "if(b>a):\n",
        "  print(\"b is greater than a\")\n",
        "  print(\"Hello\")"
      ]
    },
    {
      "cell_type": "code",
      "source": [
        "amount = eval(input(\"Enter Amount\"))\n",
        "\n",
        "if amount < 10000:\n",
        "  discount = amount*0.05\n",
        "  print(\"Discount : \", discount)\n",
        "\n",
        "elif amount > 10000 or amount < 20000:\n",
        "  discount = amount*0.1\n",
        "  print(\"Update Discount : \", discount)\n",
        "\n",
        "else:\n",
        "  discount = amount*0.01\n",
        "  print(\"Discount : \", discount)\n",
        "\n",
        "print(\"Net Payble : \" , amount - discount)"
      ],
      "metadata": {
        "colab": {
          "base_uri": "https://localhost:8080/"
        },
        "id": "rRQ8JbUX2_8Z",
        "outputId": "3757fcc0-dc59-4db1-838f-21fbca02404c"
      },
      "execution_count": 5,
      "outputs": [
        {
          "output_type": "stream",
          "name": "stdout",
          "text": [
            "Enter Amount16000\n",
            "Update Discount :  1600.0\n",
            "Net Payble :  14400.0\n"
          ]
        }
      ]
    },
    {
      "cell_type": "code",
      "source": [
        "num = eval(input(\"Enter Amount\"))\n",
        "if num%2 ==0:\n",
        "  if num%3==0:\n",
        "    print(\"Devisible by 3 and 2\")\n",
        "  else:\n",
        "    print(\"Devisible by 2\")\n",
        "else:\n",
        "  if num%3==0:\n",
        "    print(\"Devisible by 3 not 2\")\n",
        "  else:\n",
        "    print(\"Not devisible 2 or 3\")\n"
      ],
      "metadata": {
        "colab": {
          "base_uri": "https://localhost:8080/"
        },
        "id": "4kKOuP4_KzsU",
        "outputId": "49a21f98-ce52-4131-badc-cc606ee65a60"
      },
      "execution_count": 8,
      "outputs": [
        {
          "output_type": "stream",
          "name": "stdout",
          "text": [
            "Enter Amount14\n",
            "Devisible by 2\n"
          ]
        }
      ]
    }
  ]
}