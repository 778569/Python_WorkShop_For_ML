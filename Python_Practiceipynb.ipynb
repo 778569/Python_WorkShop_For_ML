{
  "nbformat": 4,
  "nbformat_minor": 0,
  "metadata": {
    "colab": {
      "provenance": []
    },
    "kernelspec": {
      "name": "python3",
      "display_name": "Python 3"
    },
    "language_info": {
      "name": "python"
    }
  },
  "cells": [
    {
      "cell_type": "markdown",
      "source": [
        "**Python Variables**"
      ],
      "metadata": {
        "id": "M6vtmQTnm_mN"
      }
    },
    {
      "cell_type": "code",
      "execution_count": 21,
      "metadata": {
        "colab": {
          "base_uri": "https://localhost:8080/"
        },
        "id": "VKJXTGAFY7-N",
        "outputId": "f2f112f5-f8d3-4fae-9fac-18ca88e58b65"
      },
      "outputs": [
        {
          "output_type": "stream",
          "name": "stdout",
          "text": [
            "10 20.5\n"
          ]
        }
      ],
      "source": [
        "val1 =10\n",
        "val2= 20.5\n",
        "\n",
        "print(val1,val2)"
      ]
    },
    {
      "cell_type": "code",
      "source": [
        "a= 10\n",
        "b=20.5\n",
        "c='$'\n",
        "d=\"Hello\"\n",
        "\n",
        "print(a,b,c,d,sep=\"\\n\")"
      ],
      "metadata": {
        "colab": {
          "base_uri": "https://localhost:8080/"
        },
        "id": "JSHak_qqZk66",
        "outputId": "64dea7d9-7cd7-4f1c-e087-6e6e64086793"
      },
      "execution_count": 6,
      "outputs": [
        {
          "output_type": "stream",
          "name": "stdout",
          "text": [
            "10\n",
            "20.5\n",
            "$\n",
            "Hello\n"
          ]
        }
      ]
    },
    {
      "cell_type": "code",
      "source": [
        "myStr = \"Hello World\""
      ],
      "metadata": {
        "id": "41vv2XRmc8nq"
      },
      "execution_count": 7,
      "outputs": []
    },
    {
      "cell_type": "code",
      "source": [
        "print(myStr)"
      ],
      "metadata": {
        "colab": {
          "base_uri": "https://localhost:8080/"
        },
        "id": "Tov_Tie3eE-w",
        "outputId": "e5f3eaf5-7eec-43ff-870d-f028eb6614b0"
      },
      "execution_count": 8,
      "outputs": [
        {
          "output_type": "stream",
          "name": "stdout",
          "text": [
            "Hello World\n"
          ]
        }
      ]
    },
    {
      "cell_type": "code",
      "source": [
        "print(myStr[0])"
      ],
      "metadata": {
        "colab": {
          "base_uri": "https://localhost:8080/"
        },
        "id": "QXzYyOGggHyl",
        "outputId": "6624a3f4-843d-4e78-a0e1-25fdb78eb4c2"
      },
      "execution_count": 9,
      "outputs": [
        {
          "output_type": "stream",
          "name": "stdout",
          "text": [
            "H\n"
          ]
        }
      ]
    },
    {
      "cell_type": "code",
      "source": [
        "print(myStr[2:6])"
      ],
      "metadata": {
        "colab": {
          "base_uri": "https://localhost:8080/"
        },
        "id": "XNA3UZL9g0aq",
        "outputId": "dbfc0a8e-8978-4d91-d6fe-295a69de7a79"
      },
      "execution_count": 11,
      "outputs": [
        {
          "output_type": "stream",
          "name": "stdout",
          "text": [
            "llo \n"
          ]
        }
      ]
    },
    {
      "cell_type": "code",
      "source": [
        "print(myStr[2:])"
      ],
      "metadata": {
        "colab": {
          "base_uri": "https://localhost:8080/"
        },
        "id": "rfdAAWVTkk9n",
        "outputId": "2eb94525-dea3-425a-b8ca-e5f414319476"
      },
      "execution_count": 12,
      "outputs": [
        {
          "output_type": "stream",
          "name": "stdout",
          "text": [
            "llo World\n"
          ]
        }
      ]
    },
    {
      "cell_type": "code",
      "source": [
        "print(myStr * 2)"
      ],
      "metadata": {
        "colab": {
          "base_uri": "https://localhost:8080/"
        },
        "id": "4P8xNov9kqeh",
        "outputId": "486ae366-92be-4155-a7c8-cae693ed23b6"
      },
      "execution_count": 15,
      "outputs": [
        {
          "output_type": "stream",
          "name": "stdout",
          "text": [
            "Hello WorldHello World\n"
          ]
        }
      ]
    },
    {
      "cell_type": "code",
      "source": [
        "print(myStr + \" test\")"
      ],
      "metadata": {
        "colab": {
          "base_uri": "https://localhost:8080/"
        },
        "id": "bkJvHO1pk9Hx",
        "outputId": "bdb1f9b7-808b-4d11-f0e1-33d8eeaf5157"
      },
      "execution_count": 17,
      "outputs": [
        {
          "output_type": "stream",
          "name": "stdout",
          "text": [
            "Hello World test\n"
          ]
        }
      ]
    },
    {
      "cell_type": "code",
      "source": [
        "print(myStr[:])"
      ],
      "metadata": {
        "colab": {
          "base_uri": "https://localhost:8080/"
        },
        "id": "W58ZFaidmJxO",
        "outputId": "0fcf9c36-6a2d-47b5-dd8c-a24b65c5ad86"
      },
      "execution_count": 20,
      "outputs": [
        {
          "output_type": "stream",
          "name": "stdout",
          "text": [
            "Hello World\n"
          ]
        }
      ]
    },
    {
      "cell_type": "markdown",
      "source": [
        "**Python Input**"
      ],
      "metadata": {
        "id": "1zt_qGZknOQC"
      }
    },
    {
      "cell_type": "code",
      "source": [
        "val = input()\n",
        "print(\"Value : \" + val)"
      ],
      "metadata": {
        "colab": {
          "base_uri": "https://localhost:8080/"
        },
        "id": "m6c1ylQhnSiw",
        "outputId": "e188c54d-270f-43d0-83fc-3ad6101aad5d"
      },
      "execution_count": 22,
      "outputs": [
        {
          "output_type": "stream",
          "name": "stdout",
          "text": [
            "hello\n",
            "Value : hello\n"
          ]
        }
      ]
    },
    {
      "cell_type": "code",
      "source": [
        "x = input(\"Enter a value for x : \")\n",
        "print(\"x : \" + x)"
      ],
      "metadata": {
        "colab": {
          "base_uri": "https://localhost:8080/"
        },
        "id": "7QYqFX86n4MI",
        "outputId": "f881625a-5450-4f98-9f15-d2386e741f41"
      },
      "execution_count": 23,
      "outputs": [
        {
          "output_type": "stream",
          "name": "stdout",
          "text": [
            "Enter a value for x : 55\n",
            "x : 55\n"
          ]
        }
      ]
    },
    {
      "cell_type": "code",
      "source": [
        "x = float(input(\"Enter a value for x : \"))\n",
        "y = int(input(\"Enter a value for y : \"))\n",
        "\n",
        "print(\"x : \", x)\n",
        "print(\"y : \" , y)\n",
        "print(\"x+ y : \", x + y)"
      ],
      "metadata": {
        "colab": {
          "base_uri": "https://localhost:8080/"
        },
        "id": "QxosFt53oE9J",
        "outputId": "cd73b57c-de87-41fc-82d8-4106043598bf"
      },
      "execution_count": 30,
      "outputs": [
        {
          "output_type": "stream",
          "name": "stdout",
          "text": [
            "Enter a value for x : 11\n",
            "Enter a value for y : 12\n",
            "x :  11.0\n",
            "y :  12\n",
            "x+ y :  23.0\n"
          ]
        }
      ]
    },
    {
      "cell_type": "markdown",
      "source": [
        "eval() - function convert any type that you want"
      ],
      "metadata": {
        "id": "DWxwdF8yrPIh"
      }
    },
    {
      "cell_type": "code",
      "source": [
        "x = eval(input(\"Enter a value for x : \"))\n",
        "y = eval(input(\"Enter a value for y : \"))\n",
        "\n",
        "print(\"x : \", x)\n",
        "print(\"y : \" , y)\n",
        "print(\"x+ y : \", x + y)"
      ],
      "metadata": {
        "colab": {
          "base_uri": "https://localhost:8080/"
        },
        "id": "4of77VVmrWum",
        "outputId": "b94e6dfd-0619-4195-a222-c1f66e667602"
      },
      "execution_count": 32,
      "outputs": [
        {
          "output_type": "stream",
          "name": "stdout",
          "text": [
            "Enter a value for x : 12*7+23\n",
            "Enter a value for y : 78+69*12\n",
            "x :  107\n",
            "y :  906\n",
            "x+ y :  1013\n"
          ]
        }
      ]
    },
    {
      "cell_type": "code",
      "source": [
        "myStr = \"12*100*10\"\n",
        "print(eval(myStr))"
      ],
      "metadata": {
        "colab": {
          "base_uri": "https://localhost:8080/"
        },
        "id": "elgtnAXzsSPZ",
        "outputId": "b7f0881d-1b7a-40bc-9145-3637d38d8988"
      },
      "execution_count": 34,
      "outputs": [
        {
          "output_type": "stream",
          "name": "stdout",
          "text": [
            "12000\n"
          ]
        }
      ]
    }
  ]
}